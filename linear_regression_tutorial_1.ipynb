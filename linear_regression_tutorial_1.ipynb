{
 "cells": [
  {
   "cell_type": "markdown",
   "metadata": {},
   "source": [
    "Model $$ f_\\theta(x) = \\theta_0 + \\theta_1 x $$\n",
    "\n",
    "Parameters $$ \\begin{align} \\theta &=  \\begin{bmatrix} \\theta_0 \\\\ \\theta_1 \\end{bmatrix}\\\\ &= \\begin{bmatrix} 0.5 \\\\ 1.25 \\end{bmatrix} \\end{align} $$\n",
    "\n",
    "Cost Function $$ J(\\theta) = \\frac{1}{2m} \\sum_{i=0}^m (f_\\theta(x^{(i)}) - y^{(i)})^2$$"
   ]
  },
  {
   "cell_type": "code",
   "execution_count": 35,
   "metadata": {
    "pycharm": {
     "name": "#%%\n"
    },
    "tags": []
   },
   "outputs": [],
   "source": [
    "import sklearn.datasets as ds\n",
    "import torch\n",
    "from torch.utils.data import Dataset, DataLoader\n",
    "from torch.utils.data.sampler import SubsetRandomSampler\n",
    "import matplotlib.pyplot as plt\n",
    "import numpy as np"
   ]
  },
  {
   "cell_type": "code",
   "execution_count": 45,
   "metadata": {
    "tags": []
   },
   "outputs": [],
   "source": [
    "class SyntheticData(Dataset):\n",
    "    def __init__(self, n_samples=200, n_features=1, n_informative=1, noise=20, coefficients=True, random_state=42):\n",
    "        X, y, coefs = ds.make_regression(n_samples=n_samples,\n",
    "                                        n_features=n_features,\n",
    "                                        n_informative=n_informative,\n",
    "                                        noise=noise,\n",
    "                                        coef=coefficients,\n",
    "                                        random_state=random_state)\n",
    "        self.X = torch.from_numpy(X)\n",
    "        self.y = torch.from_numpy(y)\n",
    "        self.coefs = coefs\n",
    "\n",
    "        self.n_samples = X.shape[0]\n",
    "\n",
    "    def __getitem__(self, i):\n",
    "        return self.X[i], self.y[i]\n",
    "\n",
    "    def __len__(self):\n",
    "        return self.n_samples"
   ]
  },
  {
   "cell_type": "code",
   "execution_count": 37,
   "metadata": {
    "tags": []
   },
   "outputs": [],
   "source": [
    "synthetic_data = SyntheticData()"
   ]
  },
  {
   "cell_type": "code",
   "execution_count": 47,
   "metadata": {
    "tags": []
   },
   "outputs": [
    {
     "data": {
      "text/plain": [
       "<matplotlib.collections.PathCollection at 0x7f97c791baf0>"
      ]
     },
     "execution_count": 47,
     "metadata": {},
     "output_type": "execute_result"
    },
    {
     "data": {
      "image/png": "[encoded data removed]",
      "text/plain": [
       "<Figure size 432x288 with 1 Axes>"
      ]
     },
     "metadata": {
      "needs_background": "light"
     },
     "output_type": "display_data"
    }
   ],
   "source": [
    "plt.scatter(synthetic_data.X, synthetic_data.y)"
   ]
  },
  {
   "cell_type": "code",
   "execution_count": 39,
   "metadata": {
    "pycharm": {
     "name": "#%%\n"
    },
    "tags": []
   },
   "outputs": [],
   "source": [
    "random_seed = 42\n",
    "batch_size = 1\n",
    "\n",
    "# withhold 20% of the data for validation\n",
    "validation_split = 0.2\n",
    "dataset_size = len(synthetic_data)\n",
    "\n",
    "# [1,2,3,4,...,m]\n",
    "indices = list(range(dataset_size))\n",
    "\n",
    "# 0.2 * 200 = 40 -> 40 datapoints for validation\n",
    "split = int(np.floor(validation_split * dataset_size))"
   ]
  },
  {
   "cell_type": "code",
   "execution_count": 40,
   "metadata": {
    "pycharm": {
     "name": "#%%\n"
    },
    "tags": []
   },
   "outputs": [],
   "source": [
    "train_indices, val_indices = indices[split:], indices[:split]"
   ]
  },
  {
   "cell_type": "code",
   "execution_count": 41,
   "metadata": {
    "tags": []
   },
   "outputs": [],
   "source": [
    "train_sampler = SubsetRandomSampler(train_indices)\n",
    "valid_sampler = SubsetRandomSampler(val_indices)\n",
    "\n",
    "train_loader = torch.utils.data.DataLoader(synthetic_data, batch_size=batch_size, \n",
    "                                           sampler=train_sampler)\n",
    "validation_loader = torch.utils.data.DataLoader(synthetic_data, batch_size=batch_size,\n",
    "                                                sampler=valid_sampler)"
   ]
  },
  {
   "cell_type": "code",
   "execution_count": 42,
   "metadata": {
    "tags": []
   },
   "outputs": [
    {
     "name": "stdout",
     "output_type": "stream",
     "text": [
      "0 tensor([[0.3853]], dtype=torch.float64) tensor([1.8242], dtype=torch.float64)\n",
      "1 tensor([[-0.4695]], dtype=torch.float64) tensor([-40.7118], dtype=torch.float64)\n",
      "2 tensor([[0.8219]], dtype=torch.float64) tensor([74.6334], dtype=torch.float64)\n",
      "3 tensor([[-0.1857]], dtype=torch.float64) tensor([-18.3916], dtype=torch.float64)\n",
      "4 tensor([[2.4632]], dtype=torch.float64) tensor([203.8563], dtype=torch.float64)\n",
      "5 tensor([[1.8658]], dtype=torch.float64) tensor([209.2133], dtype=torch.float64)\n",
      "6 tensor([[-0.2647]], dtype=torch.float64) tensor([-24.6925], dtype=torch.float64)\n",
      "7 tensor([[0.0602]], dtype=torch.float64) tensor([-0.1364], dtype=torch.float64)\n",
      "8 tensor([[-0.9905]], dtype=torch.float64) tensor([-93.0888], dtype=torch.float64)\n",
      "9 tensor([[1.0035]], dtype=torch.float64) tensor([78.7340], dtype=torch.float64)\n",
      "10 tensor([[-0.0720]], dtype=torch.float64) tensor([-8.8862], dtype=torch.float64)\n",
      "11 tensor([[-1.4123]], dtype=torch.float64) tensor([-141.0303], dtype=torch.float64)\n",
      "12 tensor([[-0.5298]], dtype=torch.float64) tensor([-58.9245], dtype=torch.float64)\n",
      "13 tensor([[0.8225]], dtype=torch.float64) tensor([99.4366], dtype=torch.float64)\n",
      "14 tensor([[0.9634]], dtype=torch.float64) tensor([55.4670], dtype=torch.float64)\n",
      "15 tensor([[-0.2346]], dtype=torch.float64) tensor([-44.9934], dtype=torch.float64)\n",
      "16 tensor([[-1.4019]], dtype=torch.float64) tensor([-123.1710], dtype=torch.float64)\n",
      "17 tensor([[-0.5623]], dtype=torch.float64) tensor([-45.8100], dtype=torch.float64)\n",
      "18 tensor([[0.6566]], dtype=torch.float64) tensor([94.8036], dtype=torch.float64)\n",
      "19 tensor([[0.0870]], dtype=torch.float64) tensor([-30.3103], dtype=torch.float64)\n",
      "20 tensor([[-1.2309]], dtype=torch.float64) tensor([-76.5921], dtype=torch.float64)\n",
      "21 tensor([[-0.0771]], dtype=torch.float64) tensor([4.6623], dtype=torch.float64)\n",
      "22 tensor([[1.4535]], dtype=torch.float64) tensor([124.8832], dtype=torch.float64)\n",
      "23 tensor([[0.2970]], dtype=torch.float64) tensor([9.1739], dtype=torch.float64)\n",
      "24 tensor([[1.8523]], dtype=torch.float64) tensor([137.0965], dtype=torch.float64)\n",
      "25 tensor([[-0.5035]], dtype=torch.float64) tensor([-17.0160], dtype=torch.float64)\n",
      "26 tensor([[1.5230]], dtype=torch.float64) tensor([161.2666], dtype=torch.float64)\n",
      "27 tensor([[-0.0728]], dtype=torch.float64) tensor([-24.4157], dtype=torch.float64)\n",
      "28 tensor([[-0.9747]], dtype=torch.float64) tensor([-61.5077], dtype=torch.float64)\n",
      "29 tensor([[0.8125]], dtype=torch.float64) tensor([102.1502], dtype=torch.float64)\n",
      "30 tensor([[-0.6017]], dtype=torch.float64) tensor([-41.8006], dtype=torch.float64)\n",
      "31 tensor([[-0.8158]], dtype=torch.float64) tensor([-64.3275], dtype=torch.float64)\n",
      "32 tensor([[-1.3205]], dtype=torch.float64) tensor([-114.0758], dtype=torch.float64)\n",
      "33 tensor([[-0.4634]], dtype=torch.float64) tensor([-11.9119], dtype=torch.float64)\n",
      "34 tensor([[0.3412]], dtype=torch.float64) tensor([49.3422], dtype=torch.float64)\n",
      "35 tensor([[-1.4247]], dtype=torch.float64) tensor([-117.8575], dtype=torch.float64)\n",
      "36 tensor([[0.6257]], dtype=torch.float64) tensor([60.8039], dtype=torch.float64)\n",
      "37 tensor([[0.4736]], dtype=torch.float64) tensor([59.0026], dtype=torch.float64)\n",
      "38 tensor([[0.1537]], dtype=torch.float64) tensor([24.1973], dtype=torch.float64)\n",
      "39 tensor([[-0.4465]], dtype=torch.float64) tensor([-33.9882], dtype=torch.float64)\n"
     ]
    }
   ],
   "source": [
    "for i, (x, y) in enumerate(validation_loader):\n",
    "    print(i, x, y)"
   ]
  },
  {
   "cell_type": "code",
   "execution_count": 43,
   "metadata": {
    "tags": []
   },
   "outputs": [],
   "source": [
    "class LinearModel:\n",
    "    \n",
    "    def __init__(self):\n",
    "        self.theta_0 = 0.5\n",
    "        self.theta_1 = 1.25\n",
    "        \n",
    "    def predict(self, x):\n",
    "        return self.theta_0 + self.theta_1 * x\n",
    "\n",
    "    def measure_cost(self, validation_loader):\n",
    "        total_cost = 0\n",
    "        n_samples = len(validation_loader)\n",
    "        for _, (x, y) in enumerate(validation_loader):\n",
    "            total_cost += (self.predict(x) - y) ** 2\n",
    "        return total_cost / (2 * n_samples)"
   ]
  },
  {
   "cell_type": "code",
   "execution_count": 44,
   "metadata": {
    "tags": []
   },
   "outputs": [
    {
     "data": {
      "text/plain": [
       "tensor([[3642.3555]], dtype=torch.float64)"
      ]
     },
     "execution_count": 44,
     "metadata": {},
     "output_type": "execute_result"
    }
   ],
   "source": [
    "model = LinearModel()\n",
    "model.measure_cost(validation_loader)"
   ]
  },
  {
   "cell_type": "code",
   "execution_count": null,
   "metadata": {},
   "outputs": [],
   "source": []
  }
 ],
 "metadata": {
  "kernelspec": {
   "display_name": "Python 3 (ipykernel)",
   "language": "python",
   "name": "python3"
  },
  "language_info": {
   "codemirror_mode": {
    "name": "ipython",
    "version": 3
   },
   "file_extension": ".py",
   "mimetype": "text/x-python",
   "name": "python",
   "nbconvert_exporter": "python",
   "pygments_lexer": "ipython3",
   "version": "3.9.12"
  },
  "toc-autonumbering": false,
  "toc-showcode": false,
  "toc-showmarkdowntxt": false
 },
 "nbformat": 4,
 "nbformat_minor": 4
}